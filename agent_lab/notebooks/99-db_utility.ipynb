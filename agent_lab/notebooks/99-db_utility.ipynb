{
 "cells": [
  {
   "cell_type": "markdown",
   "metadata": {},
   "source": [
    "# **Utility Notebook** ###\n",
    "\n",
    "This notebook contains utility cells that you can run individually to change the status of the local database."
   ]
  },
  {
   "cell_type": "markdown",
   "metadata": {},
   "source": [
    "#### **Init Database**\n",
    "Run this cell if you want to reset the local database and reload the data from the .json files.   \n",
    "This will *delete all the data* in the database 😲, re-create the tables and import default customers, menu and schedule.  \n",
    "\n",
    "When asked, type **'y'** to confirm, anything else to cancel."
   ]
  },
  {
   "cell_type": "code",
   "execution_count": 4,
   "metadata": {},
   "outputs": [
    {
     "name": "stdout",
     "output_type": "stream",
     "text": [
      "\u001b[34mResetting database...\u001b[0m\n",
      "\u001b[32mDone!\u001b[0m\n"
     ]
    }
   ],
   "source": [
    "from services.data_provider import DataProvider\n",
    "from termcolor import cprint\n",
    "\n",
    "try:\n",
    "    choice = input(\"Really want to reset the database? (y/n): \")\n",
    "    if choice.lower() == \"y\":\n",
    "        cprint(f\"Resetting database...\",\"blue\")\n",
    "        db=DataProvider()\n",
    "        db.create_db()\n",
    "        cprint(f\"Done!\",\"green\")\n",
    "    else:\n",
    "        cprint(f\"Aborted!\",\"yellow\")\n",
    "except Exception as e:\n",
    "    cprint(f\"Error: {e}\",\"red\")"
   ]
  },
  {
   "cell_type": "markdown",
   "metadata": {},
   "source": [
    "#### **Register a new Customer**  \n",
    "If, for any reason, don't like the Simpson family 😲, you can add other customers.  \n",
    "\n",
    "Edit the customer data below and run the cell to register a new customer.  \n",
    "Don't forget that you might be asked to provide the `user ID` and `Card digits` for some operations."
   ]
  },
  {
   "cell_type": "code",
   "execution_count": 5,
   "metadata": {},
   "outputs": [],
   "source": [
    "\n",
    "\n",
    "from services.data_provider import DataProvider\n",
    "from services.data_types import Customer,Address\n",
    "from termcolor import cprint\n",
    "\n",
    "db=DataProvider()\n",
    "\n",
    "# Enter your data here...\n",
    "customer=Customer(\n",
    "  first_name=\"Mickey\",\n",
    "  last_name=\"Mouse\",\n",
    "  email=\"mickey@mouse.com\",\n",
    "  phone=\"078-0000000\",\n",
    "  address = Address(\n",
    "    street=\"The Circle 01\",\n",
    "    city=\"Zurich\",\n",
    "    zip=\"8101\",\n",
    "    state=\"ZH\",\n",
    "    country=\"Switzerland\"\n",
    "  ),\n",
    "  user_id=\"#1366\",\n",
    "  special=True,\n",
    "  card_digits=\"7777\"\n",
    "  )\n",
    "\n",
    "db.add_customer(customer)"
   ]
  },
  {
   "cell_type": "markdown",
   "metadata": {},
   "source": [
    "#### **Update the status of an order**  \n",
    "**For hardcore Ninjas only!** 🥷  \n",
    "Enter the user id and the order id of the order you wish to change then run the cell to change its status."
   ]
  },
  {
   "cell_type": "code",
   "execution_count": 6,
   "metadata": {},
   "outputs": [
    {
     "name": "stdout",
     "output_type": "stream",
     "text": [
      "\u001b[31mOrder not found!\u001b[0m\n"
     ]
    }
   ],
   "source": [
    "from services.data_provider import DataProvider\n",
    "from services.data_types import Order\n",
    "from termcolor import cprint\n",
    "\n",
    "db=DataProvider()\n",
    "\n",
    "# Enter your data here...\n",
    "order_id=\"0005\"\n",
    "user_id=\"#1366\"\n",
    "current_status=\"canceled\"\n",
    "new_status=\"pending\"\n",
    "\n",
    "order=db.get_order(user_id=user_id,order_id=order_id,status=current_status)\n",
    "if not order:\n",
    "  cprint(f\"Order not found!\",\"red\")\n",
    "else: \n",
    "  db.upsert_order(order_id=order_id, order=order, status=new_status)\n",
    "  cprint(f\"Order updated\",\"green\")"
   ]
  }
 ],
 "metadata": {
  "kernelspec": {
   "display_name": "Python 3 (ipykernel)",
   "language": "python",
   "name": "python3"
  },
  "language_info": {
   "codemirror_mode": {
    "name": "ipython",
    "version": 3
   },
   "file_extension": ".py",
   "mimetype": "text/x-python",
   "name": "python",
   "nbconvert_exporter": "python",
   "pygments_lexer": "ipython3",
   "version": "3.12.5"
  }
 },
 "nbformat": 4,
 "nbformat_minor": 4
}
