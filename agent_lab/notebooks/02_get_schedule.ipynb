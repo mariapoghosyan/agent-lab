{
 "cells": [
  {
   "cell_type": "markdown",
   "metadata": {},
   "source": [
    "# **Step 2 - Challenge solution**\n",
    "\n",
    "This is one of the possible solutions to the [Step 1's challenge](01_intro.ipynb).\n",
    "\n",
    "The cell below is identical to the one you have already seen before so just run the cell and continue.\n",
    "\n",
    "**Reminder:** In general, always remember to run each cell with SHIFT+ENTER or the little arrow (VS Code). "
   ]
  },
  {
   "cell_type": "code",
   "execution_count": 4,
   "metadata": {},
   "outputs": [],
   "source": [
    "import os\n",
    "import datetime\n",
    "from openai import AzureOpenAI\n",
    "from dotenv import load_dotenv\n",
    "from termcolor import cprint\n",
    "\n",
    "# Environment setup\n",
    "load_dotenv()\n",
    "api_key=os.environ['AZURE_OPENAI_API_KEY']\n",
    "api_version=os.environ['AZURE_OPENAI_API_VERSION']\n",
    "deployment=os.environ['AZURE_OPENAI_DEPLOYMENT']\n",
    "\n",
    "# Initialize AzureOpenAI client\n",
    "client = AzureOpenAI(\n",
    "  api_key=api_key,  \n",
    "  api_version = api_version\n",
    "  )\n",
    "\n",
    "# Invokes the LLM with provided system and user messages\n",
    "def invoke_llm(system_message:str, user_message:str)->str:\n",
    "    messages = [{\"role\": \"system\", \"content\": system_message}, {\"role\": \"user\", \"content\": user_message}]\n",
    "    response = client.chat.completions.create(\n",
    "    model=deployment,    \n",
    "    messages = messages,    \n",
    "    temperature=0.3)\n",
    "    return response.choices[0].message.content"
   ]
  },
  {
   "cell_type": "markdown",
   "metadata": {},
   "source": [
    "Following are the modified prompts to handle the requests regarding the food service schedule.  \n",
    "\n",
    "As you see, we simply added the information regarding the working schedule in the system prompt.  That's a simple solution.   "
   ]
  },
  {
   "cell_type": "code",
   "execution_count": 8,
   "metadata": {},
   "outputs": [],
   "source": [
    "# Here is the predefined system prompt (change it as you wish! 🙂)\n",
    "system_message = f'''\n",
    "You are an assistant with expertise in food delivery information.\n",
    "Your service is open every day from 9 AM to 9 PM except on Mondays.\n",
    "Opening hours for special guests 8 AM to 10 PM.\n",
    "Users 7560 to 7570 are special guests.\n",
    "'''\n",
    "\n",
    "# Here is the user request (just an example, try changing it! 🙂)\n",
    "user_message=\"Can I make an order now to be delivered tomorrow at 9 PM?\""
   ]
  },
  {
   "cell_type": "markdown",
   "metadata": {},
   "source": [
    "Then, since the LLM doesn't know what the current date and time are, we also provide that information as part of the input request."
   ]
  },
  {
   "cell_type": "markdown",
   "metadata": {},
   "source": [
    "## Try it \n",
    "\n",
    "Use the `invoke_llm()` function with the system message and user message: "
   ]
  },
  {
   "cell_type": "code",
   "execution_count": 5,
   "metadata": {},
   "outputs": [
    {
     "data": {
      "text/plain": [
       "\"Sure, I can help with that. Since our service is open every day from 9 AM to 9 PM except on Mondays, I can assist you with placing an order for tomorrow at 9 PM. However, please note that if tomorrow is a Monday, we won't be able to fulfill the order.\\n\\nCould you please confirm if tomorrow is a Monday? If not, I can proceed with the details of your order.\""
      ]
     },
     "execution_count": 5,
     "metadata": {},
     "output_type": "execute_result"
    }
   ],
   "source": [
    "invoke_llm(system_message, user_message)"
   ]
  },
  {
   "cell_type": "markdown",
   "metadata": {},
   "source": [
    "## Now try with the current time \n",
    "\n",
    "The LLM does not know the current time.  So what happens when you try to make an order \"now\" ? "
   ]
  },
  {
   "cell_type": "code",
   "execution_count": 10,
   "metadata": {},
   "outputs": [
    {
     "data": {
      "text/plain": [
       "'Yes, you can make an order now. As a special guest, our service is open for you from 8 AM to 10 PM. How can I assist you with your order?'"
      ]
     },
     "execution_count": 10,
     "metadata": {},
     "output_type": "execute_result"
    }
   ],
   "source": [
    "user_message=\"Can I make an order now? I'm user 7564.\"\n",
    "invoke_llm(system_message, user_message)"
   ]
  },
  {
   "cell_type": "markdown",
   "metadata": {},
   "source": [
    "## How can you let the LLM know the current date & time ? \n",
    "\n",
    "The most obvious solution is to automatically provide the current date and time in the user prompt. "
   ]
  },
  {
   "cell_type": "code",
   "execution_count": 11,
   "metadata": {},
   "outputs": [
    {
     "name": "stdout",
     "output_type": "stream",
     "text": [
      "\u001b[34mInput: Today is 09/09/2024 08:53. Respond to the following user request: Can I make an order now? I'm user 7564.\u001b[0m\n",
      "\u001b[33mYes, you can make an order now. As a special guest, you have access to our services from 8 AM to 10 PM. How can I assist you with your order?\u001b[0m\n"
     ]
    }
   ],
   "source": [
    "# We add current date and time to the user request\n",
    "now=datetime.datetime.now().strftime(\"%d/%m/%Y %H:%M\")\n",
    "input_request=f\"Today is {now}. Respond to the following user request: {user_message}\"\n",
    "\n",
    "cprint(f\"Input: {input_request}\", \"blue\") \n",
    "response = invoke_llm(system_message, input_request)\n",
    "cprint(response, \"yellow\")"
   ]
  },
  {
   "cell_type": "markdown",
   "metadata": {},
   "source": [
    "Not so complicated in the end no? 🙂\n",
    "\n",
    "### **But...**\n",
    "\n",
    "Can you identify some possible limitations of this approach?  \n",
    "\n"
   ]
  },
  {
   "cell_type": "markdown",
   "metadata": {},
   "source": [
    "## **Another challenge for you**  😎\n",
    "\n",
    "Let's assume you now wish to provide extended opening hours for VIP ('special') customers:\n",
    "- If the user is among a list of *special* users (potentially thousands), the opening schedule is from 8 AM to 10 PM except Mondays.\n",
    "- For all the other customers, the schedule remains unchanged.\n",
    "\n",
    "*Examples* \n",
    "\n",
    "User 7564 is a special user, 0000 is not.\n",
    "  \n",
    "- *I am user 7564, what are today's working hours?* -> 8AM-10PM\n",
    "- *what are today's working hours?* -> 9AM-9PM\n",
    "- *what are today's working hours?, btw I am 7564...* -> 8AM-10PM\n",
    "- *what are today's working hours?, I am user 0000* -> 9AM-9PM\n",
    "\n",
    "\n",
    "How would you refactor your (or the above) solution to cover this additional requirement?\n",
    "\n",
    "Take some time to find a solution by experimenting with the above cells. \n",
    "When done, go to [Notebook 3](03_get_schedule_tool.ipynb) where we will investigate a possible solution."
   ]
  },
  {
   "cell_type": "code",
   "execution_count": null,
   "metadata": {},
   "outputs": [],
   "source": []
  }
 ],
 "metadata": {
  "kernelspec": {
   "display_name": "Python 3 (ipykernel)",
   "language": "python",
   "name": "python3"
  },
  "language_info": {
   "codemirror_mode": {
    "name": "ipython",
    "version": 3
   },
   "file_extension": ".py",
   "mimetype": "text/x-python",
   "name": "python",
   "nbconvert_exporter": "python",
   "pygments_lexer": "ipython3",
   "version": "3.12.5"
  }
 },
 "nbformat": 4,
 "nbformat_minor": 4
}
